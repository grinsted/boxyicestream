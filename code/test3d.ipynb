{
 "cells": [
  {
   "cell_type": "code",
   "execution_count": 1,
   "metadata": {},
   "outputs": [],
   "source": [
    "%load_ext autoreload\n",
    "%autoreload 2\n",
    "%aimport -fenics\n",
    "%aimport -numpy \n",
    "%aimport -matplotlib\n",
    "from fenics import *\n",
    "import numpy as np\n",
    "import matplotlib.pyplot as plt\n",
    "import settings\n",
    "import solution_io\n",
    "import ice_physics\n",
    "\n"
   ]
  },
  {
   "cell_type": "code",
   "execution_count": 2,
   "metadata": {},
   "outputs": [],
   "source": [
    "\n",
    "yr2sec = 365.25 * 24 * 60 * 60\n",
    "experiment = settings.experiment(name=\"iso_lowres\",resolution_l=20,resolution_w=8,resolution_h=3)\n",
    "experiment = settings.experiment(name=\"iso\",resolution_w=20)\n",
    "#experiment = settings.experiment(name=\"exx0.1\",icestream_Exx=0.1,resolution_w=20)\n",
    "\n",
    "\n",
    "\n",
    "domain_w = experiment[\"domain_w\"]\n",
    "domain_h = experiment[\"domain_h\"]\n",
    "domain_l = experiment[\"domain_l\"]\n",
    "resolution_w = experiment[\"resolution_w\"]\n",
    "resolution_h = experiment[\"resolution_h\"]\n",
    "resolution_l = experiment[\"resolution_l\"]\n",
    "icestream_width = experiment[\"icestream_width\"]\n",
    "shearmargin_enhancement = experiment[\"shearmargin_enhancement\"]\n",
    "shearmargin_enhancement_pos = experiment[\"shearmargin_enhancement_pos\"]\n",
    "icestream_Exx = experiment[\"icestream_Exx\"]\n",
    "A = experiment[\"A\"]\n",
    "rho = experiment[\"rho\"]\n",
    "n = experiment[\"n\"]\n",
    "gmag = experiment[\"gmag\"]\n",
    "alpha = experiment[\"alpha\"]\n",
    "beta2 = experiment[\"weertman_beta2\"]\n"
   ]
  },
  {
   "cell_type": "code",
   "execution_count": 3,
   "metadata": {},
   "outputs": [],
   "source": [
    "if experiment[\"model_half\"]:\n",
    "    mesh = BoxMesh(Point(0, 0, 0), Point(domain_l, +domain_w / 2, domain_h), resolution_l, resolution_w, resolution_h)\n",
    "else:\n",
    "    mesh = BoxMesh(Point(0, -domain_w / 2, 0), Point(domain_l, +domain_w / 2, domain_h), resolution_l, resolution_w, resolution_h)\n",
    "\n",
    "# mesh refinement.\n",
    "for x in mesh.coordinates():\n",
    "    x[2] = (x[2] / domain_h) ** 1.7 * domain_h\n",
    "    amp = icestream_width / 10\n",
    "    if abs(x[1]) < (icestream_width * 0.75):\n",
    "        x[1] += np.sin((x[1] / icestream_width - 1) * 2 * np.pi) * amp\n",
    "    else:\n",
    "        x[1] += np.sign(x[1]) * (abs(x[1]) - domain_w / 2) / ((domain_w / 2 - icestream_width * 0.75)) * amp\n"
   ]
  },
  {
   "cell_type": "code",
   "execution_count": 4,
   "metadata": {},
   "outputs": [],
   "source": [
    "\n",
    "Uele = VectorElement(\"CG\", mesh.ufl_cell(), 2)\n",
    "Pele = FiniteElement(\"CG\", mesh.ufl_cell(), 1)\n",
    "\n",
    "MixedEle = MixedElement([Uele, Pele])\n",
    "\n",
    "U = VectorFunctionSpace(mesh, \"CG\", 2)\n",
    "P = FunctionSpace(mesh, \"CG\", 1)\n",
    "W = FunctionSpace(mesh, MixedEle)\n",
    "\n",
    "(u, p) = TrialFunctions(W)  # the unknowns\n",
    "(v, q) = TestFunctions(W)  # the weighting funcs\n",
    "w = Function(W)\n",
    "\n",
    "\n",
    "e_x = Expression((\"1.0\", \"0.0\", \"0.0\"), element=Uele)\n",
    "e_y = Expression((\"0.0\", \"1.0\", \"0.0\"), element=Uele)\n",
    "e_z = Expression((\"0.0\", \"0.0\", \"1.0\"), element=Uele)\n"
   ]
  },
  {
   "cell_type": "code",
   "execution_count": 5,
   "metadata": {},
   "outputs": [
    {
     "name": "stdout",
     "output_type": "stream",
     "text": [
      "initializing with iso_lowres DISABLED!\n"
     ]
    }
   ],
   "source": [
    "#BCs\n",
    "near = lambda a, b: abs(a - b) < 0.1\n",
    "bottom_noslip = lambda x, on_boundary: on_boundary and near(x[2], 0) and (abs(x[1]) >= icestream_width / 2)\n",
    "bottom = lambda x, on_boundary: on_boundary and near(x[2], 0)\n",
    "side = lambda x, on_boundary: on_boundary and near(abs(x[1]), domain_w / 2)\n",
    "icedivide = lambda x, on_boundary: on_boundary and near(abs(x[0]), 0)\n",
    "front = lambda x, on_boundary: on_boundary and near(x[0], domain_l)\n",
    "top = lambda x, on_boundary: on_boundary and near(x[2], domain_h)\n",
    "centerline = lambda x, on_boundary: on_boundary and near(x[1], 0)\n",
    "\n",
    "class bottom_weertman(SubDomain):\n",
    "    def inside(self, x, on_boundary):\n",
    "        return bottom(x, on_boundary) and not bottom_noslip(x, on_boundary)\n",
    "\n",
    "boundaries = MeshFunction(\"size_t\", mesh, mesh.topology().dim() - 1)\n",
    "boundaries.set_all(0)\n",
    "bottom_weertman().mark(boundaries, 1)\n",
    "ds = Measure(\"ds\", domain=mesh, subdomain_data=boundaries)\n",
    "\n",
    "\n",
    "\n",
    "bc = [DirichletBC(W.sub(1), Constant(0), top)]\n",
    "bc += [DirichletBC(W.sub(0).sub(0), Constant(0), bottom_noslip)]\n",
    "bc += [DirichletBC(W.sub(0).sub(1), Constant(0), bottom_noslip)]\n",
    "bc += [DirichletBC(W.sub(0).sub(2), Constant(0), bottom)]\n",
    "bc += [DirichletBC(W.sub(0).sub(1), Constant(0), side)]\n",
    "bc += [DirichletBC(W.sub(0).sub(0), Constant(0), icedivide)]\n",
    "if experiment[\"model_half\"]:\n",
    "    bc += [DirichletBC(W.sub(0).sub(1), Constant(0), centerline)]\n",
    "\n",
    "# https://bitbucket.org/fenics-project/dolfin/issues/252/function-assignment-failing-with-mixed\n",
    "#hydrostatic_pressure = Expression(\"dpdz*(H-x[2])\", H=domain_h, dpdz=rho * gmag / np.cos(alpha), degree=1)\n",
    "#p0 = interpolate(hydrostatic_pressure, P)\n",
    "#assign(w.sub(1), p0)\n",
    "#init_name=None\n",
    "#if experiment['name']=='iso':\n",
    "#    init_name = \"iso_lowres\"\n",
    "#if init_name:\n",
    "#    print(f'initializing with {init_name} DISABLED!')\n",
    "#    fname_initialize = settings.filename3d(settings.experiment(name=init_name))\n",
    "#    result_init = solution_io.load_solution(fname_initialize)\n",
    "#    v0 = interpolate(result_init['u'], U)\n",
    "#    assign(w.sub(0), v0)\n"
   ]
  },
  {
   "cell_type": "code",
   "execution_count": 6,
   "metadata": {},
   "outputs": [],
   "source": [
    "\n",
    "\n",
    "#q_degree = 7\n",
    "#DX = dx(metadata={'quadrature_degree': q_degree})\n",
    "DX = dx\n",
    "\n",
    "def a_fun(n):\n",
    "    if n == 1:\n",
    "        AA = A * 2.2e10  \n",
    "    else:\n",
    "        AA = A  \n",
    "    eps = ice_physics.strainrate(u)\n",
    "    if icestream_Exx==1:\n",
    "        tau = ice_physics.tau(eps, AA , n)\n",
    "    else:\n",
    "        Exx = Expression(\"1+(Exx-1)/(1+exp(-((iw -abs(x[1])))/1e3))\",\n",
    "            iw=icestream_width,Exx=icestream_Exx, degree=1)\n",
    "        tau = ice_physics.tau_orthotropic(eps, AA, n, Exx, 1, 1, 1, 1, 1)\n",
    "    \n",
    "    a = (inner(sym(grad(v)), tau) - div(v) * p + q * div(u)) * DX\n",
    "    a += beta2 * dot(v, u) * ds(1)\n",
    "    return a\n",
    "\n",
    "\n",
    "\n",
    "g = Constant((sin(alpha) * gmag * rho, 0, -cos(alpha) * gmag * rho))  # grav vec\n",
    "L = inner(v, g) * DX\n",
    "\n",
    "\n"
   ]
  },
  {
   "cell_type": "code",
   "execution_count": 7,
   "metadata": {},
   "outputs": [
    {
     "name": "stdout",
     "output_type": "stream",
     "text": [
      "\n",
      "Running 3d experiment:  iso\n",
      "{'name': 'iso', 'resolution_w': 20}\n",
      "Solver method  |  Description                                                 \n",
      "------------------------------------------------------------------------------\n",
      "bicgstab       |  Biconjugate gradient stabilized method                      \n",
      "cg             |  Conjugate gradient method                                   \n",
      "default        |  default linear solver                                       \n",
      "gmres          |  Generalized minimal residual method                         \n",
      "minres         |  Minimal residual method                                     \n",
      "mumps          |  MUMPS (MUltifrontal Massively Parallel Sparse direct Solver)\n",
      "petsc          |  PETSc built in LU solver                                    \n",
      "richardson     |  Richardson method                                           \n",
      "superlu        |  SuperLU                                                     \n",
      "superlu_dist   |  Parallel SuperLU                                            \n",
      "tfqmr          |  Transpose-free quasi-minimal residual method                \n",
      "umfpack        |  UMFPACK (Unsymmetric MultiFrontal sparse LU factorization)  \n",
      "Preconditioner   |  Description                               \n",
      "--------------------------------------------------------------\n",
      "amg              |  Algebraic multigrid                       \n",
      "default          |  default preconditioner                    \n",
      "hypre_amg        |  Hypre algebraic multigrid (BoomerAMG)     \n",
      "hypre_euclid     |  Hypre parallel incomplete LU factorization\n",
      "hypre_parasails  |  Hypre parallel sparse approximate inverse \n",
      "icc              |  Incomplete Cholesky factorization         \n",
      "ilu              |  Incomplete LU factorization               \n",
      "jacobi           |  Jacobi iteration                          \n",
      "none             |  No preconditioner                         \n",
      "petsc_amg        |  PETSc algebraic multigrid                 \n",
      "sor              |  Successive over-relaxation                \n",
      "Solving linear variational problem.\n"
     ]
    }
   ],
   "source": [
    "print(\"\\nRunning 3d experiment: \", experiment[\"name\"])\n",
    "settings.print_experiment_highlights(experiment)\n",
    "list_linear_solver_methods()\n",
    "list_krylov_solver_preconditioners()\n",
    "\n",
    "solver_parameters = {\"linear_solver\": \"mumps\", \"preconditioner\": \"petsc_amg\"}\n",
    "#solver_parameters = {\"linear_solver\": \"tfqmr\", \"preconditioner\": \"hypre_amg\"}\n",
    "solve(a_fun(n=1) == L, w, bc, solver_parameters=solver_parameters)\n",
    "(usol, psol) = w.split(deepcopy=True)\n",
    "print('solved')"
   ]
  },
  {
   "cell_type": "code",
   "execution_count": null,
   "metadata": {},
   "outputs": [],
   "source": [
    "if n != 1:  # NLIN\n",
    "    print(\"NON-LINEAR SOLVE!\")\n",
    "    F = a_fun(n) - L\n",
    "    R = action(F, w)\n",
    "    DR = derivative(R, w)  # Gateaux derivative\n",
    "    problem = NonlinearVariationalProblem(R, w, bc, DR)\n",
    "    solver = NonlinearVariationalSolver(problem)\n",
    "    prm = solver.parameters\n",
    "    prm[\"newton_solver\"][\"linear_solver\"] = \"umfpack\"  # ?\n",
    "    prm[\"newton_solver\"][\"relative_tolerance\"] = 1e-4\n",
    "    prm[\"newton_solver\"][\"absolute_tolerance\"] = 1e-3\n",
    "    prm[\"newton_solver\"][\"relaxation_parameter\"] = 0.41\n",
    "    prm[\"newton_solver\"][\"maximum_iterations\"] = 30  # 100?\n",
    "    prm[\"newton_solver\"][\"convergence_criterion\"] = \"incremental\"\n",
    "    # -------------------\n",
    "    prm[\"newton_solver\"][\"report\"] = True\n",
    "    prm[\"newton_solver\"][\"error_on_nonconvergence\"] = False\n",
    "    prm[\"newton_solver\"][\"krylov_solver\"][\"report\"] = True\n",
    "    prm[\"newton_solver\"][\"krylov_solver\"][\"monitor_convergence\"] = True\n",
    "    prm[\"newton_solver\"][\"krylov_solver\"][\"nonzero_initial_guess\"] = True\n",
    "    prm[\"newton_solver\"][\"krylov_solver\"][\"error_on_nonconvergence\"] = False\n",
    "\n",
    "    solver.solve()\n",
    "else:\n",
    "    print(f\"n=1 - so skipping non-linear solver.\")\n",
    "\n",
    "(usol, psol) = w.split(deepcopy=True)\n",
    "\n",
    "\n",
    "fname = settings.filename3d(experiment)\n",
    "print(\"saving to \", fname)\n",
    "solution_io.save_solution(fname, mesh, usol, psol, experiment)"
   ]
  },
  {
   "cell_type": "code",
   "execution_count": null,
   "metadata": {},
   "outputs": [],
   "source": []
  },
  {
   "cell_type": "code",
   "execution_count": null,
   "metadata": {},
   "outputs": [
    {
     "data": {
      "text/plain": [
       "Text(0.5, 1.0, 'Vmag m/yr')"
      ]
     },
     "execution_count": 29,
     "metadata": {},
     "output_type": "execute_result"
    },
    {
     "data": {
      "image/png": "[encoded data removed]",
      "text/plain": [
       "<Figure size 432x288 with 2 Axes>"
      ]
     },
     "metadata": {
      "needs_background": "light"
     },
     "output_type": "display_data"
    }
   ],
   "source": [
    "x = np.linspace(0, domain_l, 200)\n",
    "y = np.linspace(-domain_w / 2, domain_w / 2, 200)\n",
    "[X, Y] = np.meshgrid(x, y)\n",
    "Vx = np.empty(X.shape)\n",
    "Vy = np.empty(X.shape)\n",
    "Pmap = np.empty(X.shape)\n",
    "for r in range(X.shape[0]):\n",
    "    for c in range(X.shape[1]):\n",
    "        v = usol(X[r, c], np.abs(Y[r, c]), domain_h)\n",
    "        Vx[r, c] = v[0]\n",
    "        Vy[r, c] = v[1] * np.sign(Y[r, c])\n",
    "        Pmap[r, c] = psol(X[r, c], np.abs(Y[r, c]), 0)\n",
    "V = np.sqrt(Vx ** 2 + Vy ** 2)\n",
    "plt.pcolormesh(X, Y, V * yr2sec,vmax=100)\n",
    "plt.colorbar()\n",
    "plt.streamplot(X, Y, Vx, Vy)\n",
    "np.max(V * yr2sec)\n",
    "plt.title(\"Vmag m/yr\")"
   ]
  },
  {
   "cell_type": "code",
   "execution_count": null,
   "metadata": {},
   "outputs": [
    {
     "data": {
      "text/plain": [
       "[<matplotlib.lines.Line2D at 0x7fbf0f81ce20>]"
      ]
     },
     "execution_count": 30,
     "metadata": {},
     "output_type": "execute_result"
    },
    {
     "data": {
      "image/png": "[encoded data removed]",
      "text/plain": [
       "<Figure size 432x288 with 1 Axes>"
      ]
     },
     "metadata": {
      "needs_background": "light"
     },
     "output_type": "display_data"
    }
   ],
   "source": [
    "plt.plot(x,V[int(len(y)/2),:] * yr2sec)"
   ]
  },
  {
   "cell_type": "code",
   "execution_count": null,
   "metadata": {},
   "outputs": [],
   "source": []
  }
 ],
 "metadata": {
  "interpreter": {
   "hash": "190e4d8e9dfd0d8e2b4a2709d0d479549cda9ef0ae867b005f14c16f567c5fda"
  },
  "kernelspec": {
   "display_name": "Python 3.9.7 ('base': conda)",
   "language": "python",
   "name": "python3"
  },
  "language_info": {
   "codemirror_mode": {
    "name": "ipython",
    "version": 3
   },
   "file_extension": ".py",
   "mimetype": "text/x-python",
   "name": "python",
   "nbconvert_exporter": "python",
   "pygments_lexer": "ipython3",
   "version": "3.9.7"
  },
  "orig_nbformat": 4
 },
 "nbformat": 4,
 "nbformat_minor": 2
}
