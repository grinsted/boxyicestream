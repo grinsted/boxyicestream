{
 "cells": [
  {
   "cell_type": "code",
   "execution_count": 2,
   "metadata": {},
   "outputs": [],
   "source": [
    "%load_ext autoreload\n",
    "%autoreload 2\n",
    "%aimport -fenics\n",
    "%aimport -numpy \n",
    "%aimport -matplotlib\n",
    "from fenics import *\n",
    "import numpy as np\n",
    "import matplotlib.pyplot as plt\n",
    "import settings\n",
    "import solution_io\n",
    "import ice_physics\n"
   ]
  },
  {
   "cell_type": "code",
   "execution_count": 3,
   "metadata": {},
   "outputs": [],
   "source": [
    "\n",
    "yr2sec = 365.25 * 24 * 60 * 60\n",
    "experiment = settings.experiment(resolution_l=10,resolution_w=10,resolution_h=5)\n",
    "domain_w = experiment[\"domain_w\"]\n",
    "domain_h = experiment[\"domain_h\"]\n",
    "domain_l = experiment[\"domain_l\"]\n",
    "resolution_w = experiment[\"resolution_w\"]\n",
    "resolution_h = experiment[\"resolution_h\"]\n",
    "resolution_l = experiment[\"resolution_l\"]\n",
    "icestream_width = experiment[\"icestream_width\"]\n",
    "shearmargin_enhancement = experiment[\"shearmargin_enhancement\"]\n",
    "shearmargin_enhancement_pos = experiment[\"shearmargin_enhancement_pos\"]\n",
    "icestream_Exx = experiment[\"icestream_Exx\"]\n",
    "A = experiment[\"A\"]\n",
    "rho = experiment[\"rho\"]\n",
    "n = experiment[\"n\"]\n",
    "gmag = experiment[\"gmag\"]\n",
    "alpha = experiment[\"alpha\"]\n",
    "beta = experiment[\"weertman_beta\"]\n"
   ]
  },
  {
   "cell_type": "code",
   "execution_count": 9,
   "metadata": {},
   "outputs": [
    {
     "data": {
      "text/plain": [
       "Coefficient(FunctionSpace(None, FiniteElement('Lagrange', None, 2)), 97)"
      ]
     },
     "execution_count": 9,
     "metadata": {},
     "output_type": "execute_result"
    }
   ],
   "source": [
    "#LOAD 2d results...\n",
    "use2dresults = False\n",
    "if use2dresults:\n",
    "    fname2d = settings.filename2d(experiment)\n",
    "    result2d = solution_io.load_solution(fname2d)\n",
    "    p2dfun = result2d[\"p\"]\n",
    "    v2dfun = result2d[\"u\"]\n",
    "    p2dfun.set_allow_extrapolation(True)\n",
    "    v2dfun.set_allow_extrapolation(True)\n",
    "\n",
    "    class pressure2d(UserExpression):\n",
    "        def eval(self, values, x):\n",
    "            values[0] = p2dfun((x[1], x[2]))  # meaning of x,y, and z are different in 2d vs 3d versions\n",
    "\n",
    "        def value_shape(self):\n",
    "            return ()\n",
    "\n",
    "    class vel2d(UserExpression):\n",
    "        def eval(self, values, x):\n",
    "            v=v2dfun((x[1], x[2]))\n",
    "            values[0] = v[2]  # meaning of x,y, and z are different in 2d vs 3d versions\n",
    "            values[1] = 0\n",
    "            values[2] = 0\n",
    "\n",
    "        def value_shape(self):\n",
    "            return (3,)\n"
   ]
  },
  {
   "cell_type": "code",
   "execution_count": 51,
   "metadata": {},
   "outputs": [],
   "source": [
    "if experiment[\"model_half\"]:\n",
    "    mesh = BoxMesh(Point(0, 0, 0), Point(domain_l, +domain_w / 2, domain_h), resolution_l, resolution_w, resolution_h)\n",
    "else:\n",
    "    mesh = BoxMesh(Point(0, -domain_w / 2, 0), Point(domain_l, +domain_w / 2, domain_h), resolution_l, resolution_w, resolution_h)\n",
    "\n",
    "# mesh refinement.\n",
    "for x in mesh.coordinates():\n",
    "    x[2] = (x[2] / domain_h) ** 1.7 * domain_h\n",
    "    amp = icestream_width / 10\n",
    "    if abs(x[1]) < (icestream_width * 0.75):\n",
    "        x[1] += np.sin((x[1] / icestream_width - 1) * 2 * np.pi) * amp\n",
    "    else:\n",
    "        x[1] += (abs(x[1]) - domain_w / 2) / ((domain_w / 2 - icestream_width * 0.75)) * amp\n"
   ]
  },
  {
   "cell_type": "code",
   "execution_count": 52,
   "metadata": {},
   "outputs": [],
   "source": [
    "\n",
    "Uele = VectorElement(\"CG\", mesh.ufl_cell(), 2)\n",
    "Pele = FiniteElement(\"CG\", mesh.ufl_cell(), 1)\n",
    "\n",
    "MixedEle = MixedElement([Uele, Pele])\n",
    "\n",
    "U = VectorFunctionSpace(mesh, \"CG\", 2)\n",
    "P = FunctionSpace(mesh, \"CG\", 1)\n",
    "W = FunctionSpace(mesh, MixedEle)\n",
    "\n",
    "(u, p) = TrialFunctions(W)  # the unknowns\n",
    "(v, q) = TestFunctions(W)  # the weighting funcs\n",
    "w = Function(W)\n",
    "\n",
    "\n",
    "e_x = Expression((\"1.0\", \"0.0\", \"0.0\"), element=Uele)\n",
    "e_y = Expression((\"0.0\", \"1.0\", \"0.0\"), element=Uele)\n",
    "e_z = Expression((\"0.0\", \"0.0\", \"1.0\"), element=Uele)\n"
   ]
  },
  {
   "cell_type": "code",
   "execution_count": 53,
   "metadata": {},
   "outputs": [],
   "source": [
    "#BCs\n",
    "near = lambda a, b: abs(a - b) < 0.1\n",
    "bottom_noslip = lambda x, on_boundary: on_boundary and near(x[2], 0) and (abs(x[1]) >= icestream_width / 2)\n",
    "bottom = lambda x, on_boundary: on_boundary and near(x[2], 0)\n",
    "side = lambda x, on_boundary: on_boundary and near(abs(x[1]), domain_w / 2)\n",
    "icedivide = lambda x, on_boundary: on_boundary and near(abs(x[0]), 0)\n",
    "front = lambda x, on_boundary: on_boundary and near(x[0], domain_l)\n",
    "top = lambda x, on_boundary: on_boundary and near(x[2], domain_h)\n",
    "centerline = lambda x, on_boundary: on_boundary and near(x[1], 0)\n",
    "\n",
    "class bottom_weertman(SubDomain):\n",
    "    def inside(self, x, on_boundary):\n",
    "        return bottom(x, on_boundary) and not bottom_noslip(x, on_boundary)\n",
    "\n",
    "boundaries = MeshFunction(\"size_t\", mesh, mesh.topology().dim() - 1)\n",
    "boundaries.set_all(0)\n",
    "bottom_weertman().mark(boundaries, 1)\n",
    "ds = Measure(\"ds\", domain=mesh, subdomain_data=boundaries)\n",
    "\n",
    "\n",
    "hydrostatic_pressure = Expression(\"dpdz*(H-x[2])\", H=domain_h, dpdz=rho * gmag / np.cos(alpha), degree=2)\n",
    "# set pressure at front boundary to 2d solution\n",
    "\n",
    "\n",
    "\n",
    "bc = [DirichletBC(W.sub(1), Constant(0), top)]\n",
    "bc += [DirichletBC(W.sub(0).sub(0), Constant(0), bottom_noslip)]\n",
    "bc += [DirichletBC(W.sub(0).sub(1), Constant(0), bottom_noslip)]\n",
    "bc += [DirichletBC(W.sub(0).sub(2), Constant(0), bottom)]\n",
    "bc += [DirichletBC(W.sub(0).sub(1), Constant(0), side)]\n",
    "bc += [DirichletBC(W.sub(0).sub(0), Constant(0), icedivide)]\n",
    "if experiment[\"model_half\"]:\n",
    "    bc += [DirichletBC(W.sub(0).sub(1), Constant(0), centerline)]\n",
    "\n",
    "# bc += [DirichletBC(W.sub(0).sub(1), Constant(0), front)]\n",
    "# bc += [DirichletBC(W.sub(0).sub(2), Constant(0), front)]\n",
    "#bc += [DirichletBC(W.sub(1), hydrostatic_pressure, icedivide)]\n",
    "#bc += [DirichletBC(W.sub(1), hydrostatic_pressure, front)]\n",
    "#bc += [DirichletBC(W.sub(1), pressure2d(degree=2), front)]\n",
    "#bc += [DirichletBC(W.sub(0), vel2d(degree=2), front)]\n",
    "\n",
    "# https://bitbucket.org/fenics-project/dolfin/issues/252/function-assignment-failing-with-mixed\n",
    "p0 = interpolate(hydrostatic_pressure, P)\n",
    "assign(w.sub(1), p0)\n",
    "if use2dresults:\n",
    "    v0 = interpolate(vel2d(degree=2), U)\n",
    "    assign(w.sub(0), v0)\n"
   ]
  },
  {
   "cell_type": "code",
   "execution_count": 54,
   "metadata": {},
   "outputs": [],
   "source": [
    "E_spatial = Expression(\n",
    "    \"1+E*exp(-0.5*pow((pos-abs(x[1]))/sigma,2))\", pos=shearmargin_enhancement_pos, sigma=1e3, E=shearmargin_enhancement, degree=2,\n",
    ")\n",
    "q_degree = 7\n",
    "dx = dx(metadata={'quadrature_degree': q_degree})\n",
    "\n",
    "def a_fun(n):\n",
    "    if n == 1:\n",
    "        AA = A * 2.2e10  \n",
    "    else:\n",
    "        AA = A  \n",
    "    eps = ice_physics.strainrate(u)\n",
    "    #tau = ice_physics.tau(eps, AA * E_spatial, n)\n",
    "    if icestream_Exx!=1:\n",
    "        Exx = Expression(\"1+(Exx-1)./(1+exp(-((iw -abs(x')))/1e3))\",iw=icestream_width,Exx=icestream_Exx)\n",
    "    tau = ice_physics.tau_orthotropic(eps, AA, n, Exx, 1, 1, E_spatial, 1, 1)\n",
    "    a = (inner(sym(grad(v)), tau) - div(v) * p + q * div(u)) * dx\n",
    "    a += beta * dot(v, u) * ds(1)\n",
    "    return a\n",
    "\n",
    "\n",
    "\n",
    "g = Constant((sin(alpha) * gmag * rho, 0, -cos(alpha) * gmag * rho))  # grav vec\n",
    "L = inner(v, g) * dx\n",
    "\n",
    "\n"
   ]
  },
  {
   "cell_type": "code",
   "execution_count": 55,
   "metadata": {},
   "outputs": [
    {
     "name": "stdout",
     "output_type": "stream",
     "text": [
      "Calling FFC just-in-time (JIT) compiler, this may take some time.\n",
      "    Solving linear variational problem.\n"
     ]
    }
   ],
   "source": [
    "\n",
    "solver_parameters = {\"linear_solver\": \"mumps\", \"preconditioner\": \"petsc_amg\"}\n",
    "solve(a_fun(n=1) == L, w, bc, solver_parameters=solver_parameters)\n",
    "(usol, psol) = w.split(deepcopy=True)\n"
   ]
  },
  {
   "cell_type": "code",
   "execution_count": 56,
   "metadata": {},
   "outputs": [
    {
     "name": "stdout",
     "output_type": "stream",
     "text": [
      "NON-LINEAR SOLVE!\n",
      "Calling FFC just-in-time (JIT) compiler, this may take some time.\n",
      "Calling FFC just-in-time (JIT) compiler, this may take some time.\n",
      "    Solving nonlinear variational problem.\n",
      "      Newton iteration 0: r (abs) = 4.273e+06 (tol = 1.000e-03) r (rel) = 1.000e+00 (tol = 1.000e-04)\n",
      "      Newton iteration 1: r (abs) = 2.854e+06 (tol = 1.000e-03) r (rel) = 6.681e-01 (tol = 1.000e-04)\n",
      "      Newton iteration 2: r (abs) = 1.723e+06 (tol = 1.000e-03) r (rel) = 4.033e-01 (tol = 1.000e-04)\n",
      "      Newton iteration 3: r (abs) = 9.732e+05 (tol = 1.000e-03) r (rel) = 2.278e-01 (tol = 1.000e-04)\n",
      "      Newton iteration 4: r (abs) = 5.363e+05 (tol = 1.000e-03) r (rel) = 1.255e-01 (tol = 1.000e-04)\n",
      "      Newton iteration 5: r (abs) = 2.978e+05 (tol = 1.000e-03) r (rel) = 6.969e-02 (tol = 1.000e-04)\n",
      "      Newton iteration 6: r (abs) = 1.685e+05 (tol = 1.000e-03) r (rel) = 3.944e-02 (tol = 1.000e-04)\n",
      "      Newton iteration 7: r (abs) = 9.697e+04 (tol = 1.000e-03) r (rel) = 2.269e-02 (tol = 1.000e-04)\n",
      "      Newton iteration 8: r (abs) = 5.638e+04 (tol = 1.000e-03) r (rel) = 1.319e-02 (tol = 1.000e-04)\n",
      "      Newton iteration 9: r (abs) = 3.298e+04 (tol = 1.000e-03) r (rel) = 7.718e-03 (tol = 1.000e-04)\n",
      "      Newton iteration 10: r (abs) = 1.936e+04 (tol = 1.000e-03) r (rel) = 4.531e-03 (tol = 1.000e-04)\n",
      "      Newton iteration 11: r (abs) = 1.139e+04 (tol = 1.000e-03) r (rel) = 2.665e-03 (tol = 1.000e-04)\n",
      "      Newton iteration 12: r (abs) = 6.708e+03 (tol = 1.000e-03) r (rel) = 1.570e-03 (tol = 1.000e-04)\n",
      "      Newton iteration 13: r (abs) = 3.954e+03 (tol = 1.000e-03) r (rel) = 9.253e-04 (tol = 1.000e-04)\n",
      "      Newton iteration 14: r (abs) = 2.331e+03 (tol = 1.000e-03) r (rel) = 5.456e-04 (tol = 1.000e-04)\n",
      "      Newton iteration 15: r (abs) = 1.375e+03 (tol = 1.000e-03) r (rel) = 3.218e-04 (tol = 1.000e-04)\n",
      "      Newton iteration 16: r (abs) = 8.110e+02 (tol = 1.000e-03) r (rel) = 1.898e-04 (tol = 1.000e-04)\n",
      "      Newton iteration 17: r (abs) = 4.784e+02 (tol = 1.000e-03) r (rel) = 1.120e-04 (tol = 1.000e-04)\n",
      "      Newton iteration 18: r (abs) = 2.823e+02 (tol = 1.000e-03) r (rel) = 6.606e-05 (tol = 1.000e-04)\n",
      "      Newton solver finished in 19 iterations and 19 linear solver iterations.\n"
     ]
    }
   ],
   "source": [
    "if n != 1:  # NLIN\n",
    "    print(\"NON-LINEAR SOLVE!\")\n",
    "    F = a_fun(n) - L\n",
    "    R = action(F, w)\n",
    "    DR = derivative(R, w)  # Gateaux derivative\n",
    "    problem = NonlinearVariationalProblem(R, w, bc, DR)\n",
    "    solver = NonlinearVariationalSolver(problem)\n",
    "    prm = solver.parameters\n",
    "    prm[\"newton_solver\"][\"linear_solver\"] = \"mumps\"  # ?\n",
    "    prm[\"newton_solver\"][\"relative_tolerance\"] = 1e-4\n",
    "    prm[\"newton_solver\"][\"absolute_tolerance\"] = 1e-3\n",
    "    prm[\"newton_solver\"][\"relaxation_parameter\"] = 0.41\n",
    "    prm[\"newton_solver\"][\"maximum_iterations\"] = 30  # 100?\n",
    "    prm[\"newton_solver\"][\"convergence_criterion\"] = \"incremental\"\n",
    "    # -------------------\n",
    "    prm[\"newton_solver\"][\"report\"] = True\n",
    "    prm[\"newton_solver\"][\"error_on_nonconvergence\"] = False\n",
    "    prm[\"newton_solver\"][\"krylov_solver\"][\"report\"] = True\n",
    "    prm[\"newton_solver\"][\"krylov_solver\"][\"monitor_convergence\"] = True\n",
    "    prm[\"newton_solver\"][\"krylov_solver\"][\"nonzero_initial_guess\"] = True\n",
    "    prm[\"newton_solver\"][\"krylov_solver\"][\"error_on_nonconvergence\"] = False\n",
    "\n",
    "    solver.solve()\n",
    "else:\n",
    "    print(f\"n=1 - so skipping non-linear solver.\")\n",
    "\n",
    "(usol, psol) = w.split(deepcopy=True)"
   ]
  },
  {
   "cell_type": "code",
   "execution_count": 57,
   "metadata": {},
   "outputs": [
    {
     "data": {
      "text/plain": [
       "Text(0.5, 1.0, 'Vmag m/yr')"
      ]
     },
     "execution_count": 57,
     "metadata": {},
     "output_type": "execute_result"
    },
    {
     "data": {
      "image/png": "[encoded data removed]",
      "text/plain": [
       "<Figure size 432x288 with 2 Axes>"
      ]
     },
     "metadata": {
      "needs_background": "light"
     },
     "output_type": "display_data"
    }
   ],
   "source": [
    "x = np.linspace(0, domain_l, 200)\n",
    "y = np.linspace(-domain_w / 2, domain_w / 2, 200)\n",
    "[X, Y] = np.meshgrid(x, y)\n",
    "Vx = np.empty(X.shape)\n",
    "Vy = np.empty(X.shape)\n",
    "Pmap = np.empty(X.shape)\n",
    "for r in range(X.shape[0]):\n",
    "    for c in range(X.shape[1]):\n",
    "        v = usol(X[r, c], np.abs(Y[r, c]), domain_h)\n",
    "        Vx[r, c] = v[0]\n",
    "        Vy[r, c] = v[1] * np.sign(Y[r, c])\n",
    "        Pmap[r, c] = psol(X[r, c], np.abs(Y[r, c]), 0)\n",
    "V = np.sqrt(Vx ** 2 + Vy ** 2)\n",
    "plt.pcolormesh(X, Y, V * yr2sec)\n",
    "plt.colorbar()\n",
    "plt.streamplot(X, Y, Vx, Vy)\n",
    "np.max(V * yr2sec)\n",
    "plt.title(\"Vmag m/yr\")"
   ]
  },
  {
   "cell_type": "code",
   "execution_count": 58,
   "metadata": {},
   "outputs": [
    {
     "name": "stdout",
     "output_type": "stream",
     "text": [
      "17990720.905469127\n",
      "17990559.465178702\n"
     ]
    }
   ],
   "source": [
    "print(psol(domain_l-0.1,0.1,0.1))\n",
    "p2d = pressure2d(degree=2)\n",
    "print(p2d(domain_l-0.1,0.1,0.1))"
   ]
  },
  {
   "cell_type": "code",
   "execution_count": null,
   "metadata": {},
   "outputs": [],
   "source": []
  }
 ],
 "metadata": {
  "interpreter": {
   "hash": "190e4d8e9dfd0d8e2b4a2709d0d479549cda9ef0ae867b005f14c16f567c5fda"
  },
  "kernelspec": {
   "display_name": "Python 3.9.7 ('base': conda)",
   "language": "python",
   "name": "python3"
  },
  "language_info": {
   "codemirror_mode": {
    "name": "ipython",
    "version": 3
   },
   "file_extension": ".py",
   "mimetype": "text/x-python",
   "name": "python",
   "nbconvert_exporter": "python",
   "pygments_lexer": "ipython3",
   "version": "3.9.7"
  },
  "orig_nbformat": 4
 },
 "nbformat": 4,
 "nbformat_minor": 2
}
