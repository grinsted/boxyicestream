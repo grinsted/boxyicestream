{
 "cells": [
  {
   "cell_type": "code",
   "execution_count": 15,
   "metadata": {},
   "outputs": [
    {
     "name": "stdout",
     "output_type": "stream",
     "text": [
      "The autoreload extension is already loaded. To reload it, use:\n",
      "  %reload_ext autoreload\n"
     ]
    }
   ],
   "source": [
    "%load_ext autoreload\n",
    "%autoreload 2\n",
    "%aimport -fenics\n",
    "%aimport -numpy \n",
    "%aimport -matplotlib\n",
    "\n",
    "import settings\n",
    "from fenics import * \n",
    "import numpy as np\n",
    "import matplotlib.pyplot as plt\n",
    "import solution_io"
   ]
  },
  {
   "cell_type": "code",
   "execution_count": null,
   "metadata": {},
   "outputs": [],
   "source": [
    "yr2sec = 365.25 * 24 * 60 * 60\n",
    "domain_l = settings.experiment()['domain_l']\n",
    "domain_w = settings.experiment()['domain_w']\n",
    "domain_h = settings.experiment()['domain_h']\n",
    "\n",
    "x = np.linspace(domain_l*.5, domain_l, 400)\n",
    "y = np.linspace(-domain_w / 2, domain_w / 2, 50)\n",
    "[X, Y] = np.meshgrid(x, y)\n",
    "\n",
    "def load_experiment(name):\n",
    "    fname = settings.filename3d(settings.experiment(name=name))\n",
    "    results = solution_io.load_solution(fname)\n",
    "    usol = results['u']\n",
    "    psol = results['p']\n",
    "    Vx = np.empty(X.shape)\n",
    "    Vy = np.empty(X.shape)\n",
    "    Pmap = np.empty(X.shape)\n",
    "    for r in range(X.shape[0]):\n",
    "        for c in range(X.shape[1]):\n",
    "            v = usol(X[r, c], np.abs(Y[r, c]), domain_h)\n",
    "            Vx[r, c] = v[0]\n",
    "            Vy[r, c] = v[1] * np.sign(Y[r, c])\n",
    "            Pmap[r, c] = psol(X[r, c], np.abs(Y[r, c]), 0)\n",
    "    V = np.sqrt(Vx ** 2 + Vy ** 2)\n",
    "    return V"
   ]
  },
  {
   "cell_type": "code",
   "execution_count": null,
   "metadata": {},
   "outputs": [],
   "source": [
    "V = load_experiment('iso')\n",
    "Vcenter = V[int(len(y)/2),:] * yr2sec\n",
    "\n",
    "plt.semilogy(x,Vcenter,label='Isotropic')\n",
    "\n",
    "V = load_experiment('exx0.1')\n",
    "Vcenter2 = V[int(len(y)/2),:] * yr2sec\n",
    "plt.semilogy(x,Vcenter2,label='Exx=0.1')\n",
    "plt.legend()"
   ]
  }
 ],
 "metadata": {
  "interpreter": {
   "hash": "190e4d8e9dfd0d8e2b4a2709d0d479549cda9ef0ae867b005f14c16f567c5fda"
  },
  "kernelspec": {
   "display_name": "Python 3.9.7 ('base')",
   "language": "python",
   "name": "python3"
  },
  "language_info": {
   "codemirror_mode": {
    "name": "ipython",
    "version": 3
   },
   "file_extension": ".py",
   "mimetype": "text/x-python",
   "name": "python",
   "nbconvert_exporter": "python",
   "pygments_lexer": "ipython3",
   "version": "3.9.7"
  },
  "orig_nbformat": 4
 },
 "nbformat": 4,
 "nbformat_minor": 2
}
